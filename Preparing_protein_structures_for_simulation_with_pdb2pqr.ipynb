{
 "cells": [
  {
   "cell_type": "markdown",
   "metadata": {},
   "source": [
    "# Preparing protein structures for simulation: adding hydrogen atoms.\n",
    "\n",
    "Protein structures that are solved by X-ray crystallography seldom include hydrogen atoms, but these must be added before the structures can be used for molecular simulation.\n",
    "\n",
    "While in most cases the positions of \"missing\" hydrogens can be calculated unambiguously from a knowledge of heavy atom positions, there are some cases where this is not the case:\n",
    "\n",
    "a) When alternative tautomeric states are possible. This is the case for histidine, which can exist as the delta- or epsilon tautomer:\n",
    "<img src='images/Fig1.png' width=30%></td>\n",
    "\n",
    "b) When hydrogens may be present or absent, depending on the pKa of the functional group and the (effective) pH of the environment. The most significant of these is again histidine, which with a pKa around 6.4 may be present in the protonated or neutral form (of which there are two as discussed above):\n",
    "\n",
    "<img src='images/Fig2.png' width=20%>\n",
    "But in rarer cases, other amino acids can also be found in protein structures in \"unusual\" protonation states. For example, ASP and GLU can sometimes be found in the protonated (neutral) form:\n",
    "<img src='images/Fig3.png' width=45%>\n",
    "\n",
    "And LYS can sometimes be found in the deprotonated neutral form too:\n",
    "<img src='images/Fig4.png' width=20%>\n",
    "\n",
    "Finally, CYS and TYR residues can be deprotonated is certain circumstances:\n",
    "<img src='images/Fig5.png' width=40%>\n",
    "\n",
    "Ensuring you run your simulation with all residues in the correct protonation state may be critical for getting correct behaviour. One way to tell your protein preparation workflow what is required is to modify residue names in a PDB format file, so:\n",
    "\n",
    "\n",
    "    Neutral ASP: ASH\n",
    "    Negative CYS: CYM\n",
    "    Neutral GLU: GLH\n",
    "    Neutral HIS: HIE or HSE (epsilon-protonated); HID or HSD (delta-protonated)\n",
    "    Positive HIS: HIP or HSP\n",
    "    Neutral LYS: LYN\n",
    "    Negative TYR: TYM\n",
    "\n",
    "\n",
    "\n",
    "In this tutorial you will see how you can use [PDB2PQR](http://server.poissonboltzmann.org/pdb2pqr) to help with this. `PDB2PQR` is avaialble via a web interface, but is also available as a Python software package that you can use from the command line (`pdb2pqr30`), and it's that version you will use here.\n",
    "\n",
    "You will use `pdb2pqr30` to analyse the crystal structure of the cysteine protease cruzein (pdb code [2OZ2](https://www.rcsb.org/structure/2OZ2)). You will check what the software concludes about the protonation state of several important residues in this structure.\n",
    "\n",
    " \n",
    "## Orientation:\n",
    "\n",
    "This Jupyter notebook window contains the tutorial guide, and is where you will visualise the protein structure. To the right is a unix terminal window; this is where you will execute the commands to run the `pdb2pqr30` tool, and look at the output they produce. Be aware that this unix window is connected to the CCP-BioSim cloud service - you are not running on your own laptop/desktop."
   ]
  },
  {
   "cell_type": "markdown",
   "metadata": {},
   "source": [
    "## Part 1: visualisation of the protein.\n",
    "\n",
    "In this cell we load the pdb file and visualize it using nglviewer:"
   ]
  },
  {
   "cell_type": "code",
   "execution_count": null,
   "metadata": {},
   "outputs": [],
   "source": [
    "import nglview as nv\n",
    "import mdtraj as mdt\n",
    "import time\n",
    "pdb_file = 'data/2oz2.pdb'\n",
    "view = nv.show_file(pdb_file)\n",
    "view.add_representation('ball+stick', 'acidic')\n",
    "view.add_representation('ball+stick', 'basic')\n",
    "view"
   ]
  },
  {
   "cell_type": "markdown",
   "metadata": {},
   "source": [
    "The view shows most of the protein in ribbon form, but titratable sidechains arwe shown in full - as these are likely to be the most \"interesting\". Note that at the moment the structure contains no hydrogen atoms.\n",
    "\n",
    "## Part 2: Hydrogen atom prediction using PDB2PQR\n",
    "\n",
    "In the terminal window to the right, use `ls`,`cd` etc. to make sure you are in the `data` directory. You should be able to see the file `2oz2.pdb`.\n",
    "\n",
    "type:\n",
    "\n",
    "    pdb2pqr30 -h\n",
    "    \n",
    "You should see an extensive documentation of the program. \n",
    "\n",
    "We will use the options to combine the addition of hydrogen atoms with the analysis of probable ionisation states. Run `pdb2pqr30` as follows:\n",
    "\n",
    "    pdb2pqr30 2oz2.pdb 2oz2.pqr --pdb-output 2oz2_pqr.pdb --ffout AMBER --titration-state-method propka\n",
    "    \n",
    "For a full explanation of what each of these arguments means, see the on-line documentation, but in brief we are telling the program to use the \"propka\" method to assign ionization states, and to produce an output PDB file in a format that could be recognised by the AMBER simulation package (so it will parameterise the amino acids correctly, based on any modified amino acid names).\n",
    "\n",
    "A lot of info is written to the screen, and a new pdb format file `2oz2_pqr.pdb` is produced. The info written to the screen is probably only of interest to a specialist or software developer, the new pdb file contains everything you are interested in for now - so let's take a look."
   ]
  },
  {
   "cell_type": "code",
   "execution_count": null,
   "metadata": {},
   "outputs": [],
   "source": [
    "pdb_file2 = 'data/2oz2_pqr.pdb'\n",
    "view2 = nv.show_file(pdb_file2)\n",
    "view2.add_representation('ball+stick', 'ASH', color='orange')\n",
    "view2.add_representation('ball+stick', 'ASP', color='red')\n",
    "view2.add_representation('ball+stick', 'GLH', color='orange')\n",
    "view2.add_representation('ball+stick', 'GLU', color='red')\n",
    "view2.center('50:')\n",
    "view2"
   ]
  },
  {
   "cell_type": "markdown",
   "metadata": {},
   "source": [
    "Acidic residues in their \"normal\" deprotonated form (ASP, GLU) are shown in red; any \"unusual\" neutral acidic residues are shown in orange - are there any? If so, can you see why they may have been predicted to be in this unusual protonation state?\n",
    "\n",
    "Now let's take a look at the histidines - which tautometic/ionization states have been predicted by PDB2PQR?"
   ]
  },
  {
   "cell_type": "code",
   "execution_count": null,
   "metadata": {},
   "outputs": [],
   "source": [
    "view3 = nv.show_file(pdb_file2)\n",
    "view3.add_representation('ball+stick', 'HID', color='cyan')\n",
    "view3.add_representation('ball+stick', 'HIE', color='blue')\n",
    "view3.add_representation('ball+stick', 'HIP', color='green')\n",
    "view3"
   ]
  },
  {
   "cell_type": "markdown",
   "metadata": {},
   "source": [
    "### Further study:\n",
    "\n",
    "`pdb2pqr30` makes decisions about HIS tautomers based on which would produce the optimal H-bonding interactions with surrounding residues. Explore the environment around each HIS residue and see if you can convince yourself that `pdb2pqr30` has indeed done this.\n",
    "\n",
    "---------\n",
    "\n",
    "## Summary\n",
    "\n",
    "The accurate modelling of hydrogen-bonding interactions, and perhaps even more so electrostatic interactions, is vital for meaningful simulations. So preparing proteins for simulation in the correct tautomeric and ionisation states is a very important part of the process.\n",
    "\n",
    "Different molecular simulation packages will approach this in different ways - and not all are good. Use of a \"third party\" tool like `pdb2pqr30`, specifically designed to look at these issues, can be a big help."
   ]
  }
 ],
 "metadata": {
  "kernelspec": {
   "display_name": "Python 3 (ipykernel)",
   "language": "python",
   "name": "python3"
  },
  "language_info": {
   "codemirror_mode": {
    "name": "ipython",
    "version": 3
   },
   "file_extension": ".py",
   "mimetype": "text/x-python",
   "name": "python",
   "nbconvert_exporter": "python",
   "pygments_lexer": "ipython3",
   "version": "3.9.0"
  }
 },
 "nbformat": 4,
 "nbformat_minor": 2
}
